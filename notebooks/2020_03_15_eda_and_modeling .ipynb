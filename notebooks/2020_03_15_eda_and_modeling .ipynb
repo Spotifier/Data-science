{
 "cells": [
  {
   "cell_type": "code",
   "execution_count": 6,
   "metadata": {},
   "outputs": [],
   "source": [
    "import numpy as np\n",
    "import pandas as pd\n",
    "from sklearn.preprocessing import StandardScaler\n",
    "from sklearn.neighbors import KDTree\n",
    "from sklearn.cluster import KMeans\n",
    "import postgres_helpers as pgh\n",
    "import os\n",
    "import sys"
   ]
  },
  {
   "cell_type": "markdown",
   "metadata": {},
   "source": [
    "The goal of this notebook is to do: \n",
    "\n",
    "- Exploratory Data Analysis (EDA) on Spotify Audio Features to understand more about data\n",
    "- Compare different unsupervised learning algorithms\n",
    "- Create recommendations for each track and store them as csv, in sqlite and postgres database."
   ]
  },
  {
   "cell_type": "markdown",
   "metadata": {},
   "source": [
    "# EDA"
   ]
  },
  {
   "cell_type": "markdown",
   "metadata": {},
   "source": [
    "## 1. Data Pre-processing"
   ]
  },
  {
   "cell_type": "markdown",
   "metadata": {},
   "source": [
    "### Load Dataset"
   ]
  },
  {
   "cell_type": "code",
   "execution_count": 7,
   "metadata": {
    "scrolled": false
   },
   "outputs": [
    {
     "name": "stdout",
     "output_type": "stream",
     "text": [
      "Memory usage of dataframe is 32.04 MB\n",
      "Memory usage after optimization is: 11.78 MB\n",
      "Decreased by 63.2%\n",
      "\n",
      "        -------------------- SHAPE ---------------------\n",
      "        DF1 SpotifyAudioFeaturesApril2019.csv: (130663, 17)\n",
      "        DF2 SpotifyAudioFeaturesNov2018.csv: (116372, 17)\n",
      "        MERGED DF df: (247035, 17)\n",
      "        ------------------------------------------------\n",
      "        \n"
     ]
    },
    {
     "data": {
      "text/html": [
       "<div>\n",
       "<style scoped>\n",
       "    .dataframe tbody tr th:only-of-type {\n",
       "        vertical-align: middle;\n",
       "    }\n",
       "\n",
       "    .dataframe tbody tr th {\n",
       "        vertical-align: top;\n",
       "    }\n",
       "\n",
       "    .dataframe thead th {\n",
       "        text-align: right;\n",
       "    }\n",
       "</style>\n",
       "<table border=\"1\" class=\"dataframe\">\n",
       "  <thead>\n",
       "    <tr style=\"text-align: right;\">\n",
       "      <th></th>\n",
       "      <th>artist_name</th>\n",
       "      <th>track_id</th>\n",
       "      <th>track_name</th>\n",
       "      <th>acousticness</th>\n",
       "      <th>danceability</th>\n",
       "      <th>duration_ms</th>\n",
       "      <th>energy</th>\n",
       "      <th>instrumentalness</th>\n",
       "      <th>key</th>\n",
       "      <th>liveness</th>\n",
       "      <th>loudness</th>\n",
       "      <th>mode</th>\n",
       "      <th>speechiness</th>\n",
       "      <th>tempo</th>\n",
       "      <th>time_signature</th>\n",
       "      <th>valence</th>\n",
       "      <th>popularity</th>\n",
       "    </tr>\n",
       "  </thead>\n",
       "  <tbody>\n",
       "    <tr>\n",
       "      <th>0</th>\n",
       "      <td>YG</td>\n",
       "      <td>2RM4jf1Xa9zPgMGRDiht8O</td>\n",
       "      <td>Big Bank feat. 2 Chainz, Big Sean, Nicki Minaj</td>\n",
       "      <td>0.005821</td>\n",
       "      <td>0.743164</td>\n",
       "      <td>238373</td>\n",
       "      <td>0.339111</td>\n",
       "      <td>0.000000</td>\n",
       "      <td>1</td>\n",
       "      <td>0.081177</td>\n",
       "      <td>-7.679688</td>\n",
       "      <td>1</td>\n",
       "      <td>0.408936</td>\n",
       "      <td>203.8750</td>\n",
       "      <td>4</td>\n",
       "      <td>0.117981</td>\n",
       "      <td>15</td>\n",
       "    </tr>\n",
       "    <tr>\n",
       "      <th>1</th>\n",
       "      <td>YG</td>\n",
       "      <td>1tHDG53xJNGsItRA3vfVgs</td>\n",
       "      <td>BAND DRUM (feat. A$AP Rocky)</td>\n",
       "      <td>0.024399</td>\n",
       "      <td>0.846191</td>\n",
       "      <td>214800</td>\n",
       "      <td>0.557129</td>\n",
       "      <td>0.000000</td>\n",
       "      <td>8</td>\n",
       "      <td>0.285889</td>\n",
       "      <td>-7.257812</td>\n",
       "      <td>1</td>\n",
       "      <td>0.457031</td>\n",
       "      <td>159.0000</td>\n",
       "      <td>4</td>\n",
       "      <td>0.371094</td>\n",
       "      <td>0</td>\n",
       "    </tr>\n",
       "    <tr>\n",
       "      <th>2</th>\n",
       "      <td>R3HAB</td>\n",
       "      <td>6Wosx2euFPMT14UXiWudMy</td>\n",
       "      <td>Radio Silence</td>\n",
       "      <td>0.024994</td>\n",
       "      <td>0.603027</td>\n",
       "      <td>138913</td>\n",
       "      <td>0.723145</td>\n",
       "      <td>0.000000</td>\n",
       "      <td>9</td>\n",
       "      <td>0.082397</td>\n",
       "      <td>-5.890625</td>\n",
       "      <td>0</td>\n",
       "      <td>0.045410</td>\n",
       "      <td>114.9375</td>\n",
       "      <td>4</td>\n",
       "      <td>0.382080</td>\n",
       "      <td>56</td>\n",
       "    </tr>\n",
       "    <tr>\n",
       "      <th>3</th>\n",
       "      <td>Chris Cooq</td>\n",
       "      <td>3J2Jpw61sO7l6Hc7qdYV91</td>\n",
       "      <td>Lactose</td>\n",
       "      <td>0.029404</td>\n",
       "      <td>0.799805</td>\n",
       "      <td>125381</td>\n",
       "      <td>0.579102</td>\n",
       "      <td>0.912109</td>\n",
       "      <td>5</td>\n",
       "      <td>0.099426</td>\n",
       "      <td>-12.117188</td>\n",
       "      <td>0</td>\n",
       "      <td>0.070129</td>\n",
       "      <td>123.0000</td>\n",
       "      <td>4</td>\n",
       "      <td>0.641113</td>\n",
       "      <td>0</td>\n",
       "    </tr>\n",
       "    <tr>\n",
       "      <th>4</th>\n",
       "      <td>Chris Cooq</td>\n",
       "      <td>2jbYvQCyPgX3CdmAzeVeuS</td>\n",
       "      <td>Same - Original mix</td>\n",
       "      <td>0.000035</td>\n",
       "      <td>0.783203</td>\n",
       "      <td>124016</td>\n",
       "      <td>0.791992</td>\n",
       "      <td>0.877930</td>\n",
       "      <td>7</td>\n",
       "      <td>0.033203</td>\n",
       "      <td>-10.273438</td>\n",
       "      <td>1</td>\n",
       "      <td>0.066101</td>\n",
       "      <td>120.0625</td>\n",
       "      <td>4</td>\n",
       "      <td>0.928223</td>\n",
       "      <td>0</td>\n",
       "    </tr>\n",
       "  </tbody>\n",
       "</table>\n",
       "</div>"
      ],
      "text/plain": [
       "  artist_name                track_id  \\\n",
       "0          YG  2RM4jf1Xa9zPgMGRDiht8O   \n",
       "1          YG  1tHDG53xJNGsItRA3vfVgs   \n",
       "2       R3HAB  6Wosx2euFPMT14UXiWudMy   \n",
       "3  Chris Cooq  3J2Jpw61sO7l6Hc7qdYV91   \n",
       "4  Chris Cooq  2jbYvQCyPgX3CdmAzeVeuS   \n",
       "\n",
       "                                       track_name  acousticness  danceability  \\\n",
       "0  Big Bank feat. 2 Chainz, Big Sean, Nicki Minaj      0.005821      0.743164   \n",
       "1                    BAND DRUM (feat. A$AP Rocky)      0.024399      0.846191   \n",
       "2                                   Radio Silence      0.024994      0.603027   \n",
       "3                                         Lactose      0.029404      0.799805   \n",
       "4                             Same - Original mix      0.000035      0.783203   \n",
       "\n",
       "   duration_ms    energy  instrumentalness  key  liveness   loudness  mode  \\\n",
       "0       238373  0.339111          0.000000    1  0.081177  -7.679688     1   \n",
       "1       214800  0.557129          0.000000    8  0.285889  -7.257812     1   \n",
       "2       138913  0.723145          0.000000    9  0.082397  -5.890625     0   \n",
       "3       125381  0.579102          0.912109    5  0.099426 -12.117188     0   \n",
       "4       124016  0.791992          0.877930    7  0.033203 -10.273438     1   \n",
       "\n",
       "   speechiness     tempo  time_signature   valence  popularity  \n",
       "0     0.408936  203.8750               4  0.117981          15  \n",
       "1     0.457031  159.0000               4  0.371094           0  \n",
       "2     0.045410  114.9375               4  0.382080          56  \n",
       "3     0.070129  123.0000               4  0.641113           0  \n",
       "4     0.066101  120.0625               4  0.928223           0  "
      ]
     },
     "execution_count": 7,
     "metadata": {},
     "output_type": "execute_result"
    }
   ],
   "source": [
    "def reduce_mem_usage(df, verbose=True):\n",
    "    \"\"\" Function iterates through all the columns of a dataframe and modify the data type\n",
    "        to reduce memory usage.\n",
    "        Credit to: https://www.kaggle.com/gemartin/load-data-reduce-memory-usage\n",
    "        Parameters\n",
    "        ----------\n",
    "        df : Pandas DataFrame\n",
    "        verbose: (True) by default, prints out before and after memory usage\n",
    "        Returns\n",
    "        -------\n",
    "        df : Reduced Memory Pandas DataFrame\n",
    "    \"\"\"\n",
    "\n",
    "    if verbose:\n",
    "        start_mem = df.memory_usage().sum() / 1024**2\n",
    "        print('Memory usage of dataframe is {:.2f} MB'.format(start_mem))\n",
    "\n",
    "    for col in df.columns:\n",
    "        col_type = df[col].dtype\n",
    "\n",
    "        if col_type != object:\n",
    "            c_min = df[col].min()\n",
    "            c_max = df[col].max()\n",
    "            if str(col_type)[:3] == 'int':\n",
    "                if c_min > np.iinfo(np.int8).min and c_max < np.iinfo(np.int8).max:\n",
    "                    df[col] = df[col].astype(np.int8)\n",
    "                elif c_min > np.iinfo(np.int16).min and c_max < np.iinfo(np.int16).max:\n",
    "                    df[col] = df[col].astype(np.int16)\n",
    "                elif c_min > np.iinfo(np.int32).min and c_max < np.iinfo(np.int32).max:\n",
    "                    df[col] = df[col].astype(np.int32)\n",
    "                elif c_min > np.iinfo(np.int64).min and c_max < np.iinfo(np.int64).max:\n",
    "                    df[col] = df[col].astype(np.int64)\n",
    "            else:\n",
    "                if c_min > np.finfo(np.float16).min and c_max < np.finfo(np.float16).max:\n",
    "                    df[col] = df[col].astype(np.float16)\n",
    "                elif c_min > np.finfo(np.float32).min and c_max < np.finfo(np.float32).max:\n",
    "                    df[col] = df[col].astype(np.float32)\n",
    "                else:\n",
    "                    df[col] = df[col].astype(np.float64)\n",
    "    if verbose:\n",
    "        end_mem = df.memory_usage().sum() / 1024**2\n",
    "        print('Memory usage after optimization is: {:.2f} MB'.format(end_mem))\n",
    "        print('Decreased by {:.1f}%'.format(\n",
    "            100 * (start_mem - end_mem) / start_mem))\n",
    "\n",
    "    return df\n",
    "\n",
    "\n",
    "def load_dataset():\n",
    "    \"\"\"Loads dataset, and combines them into a single dataframe.\"\"\"\n",
    "    try:\n",
    "        fpaths = ['../data/SpotifyAudioFeaturesApril2019.csv',\n",
    "                  '../data/SpotifyAudioFeaturesNov2018.csv']\n",
    "        df1 = pd.read_csv(fpaths[0])\n",
    "        df2 = pd.read_csv(fpaths[1])\n",
    "        df = pd.concat([df1, df2], ignore_index=True)\n",
    "        df = reduce_mem_usage(df)  # Reduces Memory Usage\n",
    "\n",
    "    except Exception as e:\n",
    "        print(\n",
    "            'Error Occurred while reading the Spotify dataset: {e}'.format(e))\n",
    "        raise e\n",
    "\n",
    "    # Check total sum of rows match\n",
    "    assert df.shape[0] == (df1.shape[0] + df2.shape[0])\n",
    "\n",
    "    file_names = [fpath.split('/')[-1] for fpath in fpaths]\n",
    "    print(\n",
    "        f'''\n",
    "        -------------------- SHAPE ---------------------\n",
    "        DF1 {file_names[0]}: {df1.shape}\n",
    "        DF2 {file_names[1]}: {df2.shape}\n",
    "        MERGED DF df: {df.shape}\n",
    "        ------------------------------------------------\n",
    "        ''')\n",
    "\n",
    "    return df\n",
    "\n",
    "df = load_dataset()\n",
    "df.head()"
   ]
  },
  {
   "cell_type": "markdown",
   "metadata": {},
   "source": [
    "Let's check total tracks, and than we will remove the duplicates ones."
   ]
  },
  {
   "cell_type": "code",
   "execution_count": 8,
   "metadata": {},
   "outputs": [
    {
     "name": "stdout",
     "output_type": "stream",
     "text": [
      "Total number of audio tracks in dataset are: 247035.\n"
     ]
    }
   ],
   "source": [
    "print(f\"Total number of audio tracks in dataset are: {len(df)}.\")"
   ]
  },
  {
   "cell_type": "markdown",
   "metadata": {},
   "source": [
    "### Remove Duplicates"
   ]
  },
  {
   "cell_type": "code",
   "execution_count": 9,
   "metadata": {},
   "outputs": [
    {
     "data": {
      "text/plain": [
       "116310"
      ]
     },
     "execution_count": 9,
     "metadata": {},
     "output_type": "execute_result"
    }
   ],
   "source": [
    "# group the entries by artist_name and track_name and check for duplicates\n",
    "grouped = df.groupby(['artist_name','track_name'], as_index=True).size()\n",
    "grouped[grouped > 1].count()"
   ]
  },
  {
   "cell_type": "markdown",
   "metadata": {},
   "source": [
    "There are `116310` duplicate tracks that needs to be dropped."
   ]
  },
  {
   "cell_type": "code",
   "execution_count": 10,
   "metadata": {
    "scrolled": true
   },
   "outputs": [
    {
     "name": "stdout",
     "output_type": "stream",
     "text": [
      "After dropping duplicate tracks, total no. of tracks: 130725.\n"
     ]
    }
   ],
   "source": [
    "df1 = df.drop_duplicates(subset=['artist_name','track_name'])\n",
    "print(f\"After dropping duplicate tracks, total no. of tracks: {len(df1)}.\")"
   ]
  },
  {
   "cell_type": "markdown",
   "metadata": {},
   "source": [
    "Let's verify we have no duplicates left:"
   ]
  },
  {
   "cell_type": "code",
   "execution_count": 11,
   "metadata": {},
   "outputs": [
    {
     "data": {
      "text/plain": [
       "artist_name         0\n",
       "track_id            0\n",
       "track_name          0\n",
       "acousticness        0\n",
       "danceability        0\n",
       "duration_ms         0\n",
       "energy              0\n",
       "instrumentalness    0\n",
       "key                 0\n",
       "liveness            0\n",
       "loudness            0\n",
       "mode                0\n",
       "speechiness         0\n",
       "tempo               0\n",
       "time_signature      0\n",
       "valence             0\n",
       "popularity          0\n",
       "dtype: int64"
      ]
     },
     "execution_count": 11,
     "metadata": {},
     "output_type": "execute_result"
    }
   ],
   "source": [
    "df1[df1.duplicated(subset=['artist_name', 'track_name'],keep=False)].count()"
   ]
  },
  {
   "cell_type": "markdown",
   "metadata": {},
   "source": [
    "Now we can be sure no duplicate tracks exists."
   ]
  },
  {
   "cell_type": "markdown",
   "metadata": {},
   "source": [
    "# 2. Spotify Audio Features"
   ]
  },
  {
   "cell_type": "markdown",
   "metadata": {},
   "source": [
    "### `acousticness`"
   ]
  },
  {
   "cell_type": "code",
   "execution_count": 12,
   "metadata": {},
   "outputs": [
    {
     "data": {
      "text/html": [
       "<div>\n",
       "<style scoped>\n",
       "    .dataframe tbody tr th:only-of-type {\n",
       "        vertical-align: middle;\n",
       "    }\n",
       "\n",
       "    .dataframe tbody tr th {\n",
       "        vertical-align: top;\n",
       "    }\n",
       "\n",
       "    .dataframe thead th {\n",
       "        text-align: right;\n",
       "    }\n",
       "</style>\n",
       "<table border=\"1\" class=\"dataframe\">\n",
       "  <thead>\n",
       "    <tr style=\"text-align: right;\">\n",
       "      <th></th>\n",
       "      <th>artist_name</th>\n",
       "      <th>track_id</th>\n",
       "      <th>track_name</th>\n",
       "      <th>acousticness</th>\n",
       "      <th>danceability</th>\n",
       "      <th>duration_ms</th>\n",
       "      <th>energy</th>\n",
       "      <th>instrumentalness</th>\n",
       "      <th>key</th>\n",
       "      <th>liveness</th>\n",
       "      <th>loudness</th>\n",
       "      <th>mode</th>\n",
       "      <th>speechiness</th>\n",
       "      <th>tempo</th>\n",
       "      <th>time_signature</th>\n",
       "      <th>valence</th>\n",
       "      <th>popularity</th>\n",
       "    </tr>\n",
       "  </thead>\n",
       "  <tbody>\n",
       "    <tr>\n",
       "      <th>0</th>\n",
       "      <td>YG</td>\n",
       "      <td>2RM4jf1Xa9zPgMGRDiht8O</td>\n",
       "      <td>Big Bank feat. 2 Chainz, Big Sean, Nicki Minaj</td>\n",
       "      <td>0.005821</td>\n",
       "      <td>0.743164</td>\n",
       "      <td>238373</td>\n",
       "      <td>0.339111</td>\n",
       "      <td>0.000000</td>\n",
       "      <td>1</td>\n",
       "      <td>0.081177</td>\n",
       "      <td>-7.679688</td>\n",
       "      <td>1</td>\n",
       "      <td>0.408936</td>\n",
       "      <td>203.8750</td>\n",
       "      <td>4</td>\n",
       "      <td>0.117981</td>\n",
       "      <td>15</td>\n",
       "    </tr>\n",
       "    <tr>\n",
       "      <th>1</th>\n",
       "      <td>YG</td>\n",
       "      <td>1tHDG53xJNGsItRA3vfVgs</td>\n",
       "      <td>BAND DRUM (feat. A$AP Rocky)</td>\n",
       "      <td>0.024399</td>\n",
       "      <td>0.846191</td>\n",
       "      <td>214800</td>\n",
       "      <td>0.557129</td>\n",
       "      <td>0.000000</td>\n",
       "      <td>8</td>\n",
       "      <td>0.285889</td>\n",
       "      <td>-7.257812</td>\n",
       "      <td>1</td>\n",
       "      <td>0.457031</td>\n",
       "      <td>159.0000</td>\n",
       "      <td>4</td>\n",
       "      <td>0.371094</td>\n",
       "      <td>0</td>\n",
       "    </tr>\n",
       "    <tr>\n",
       "      <th>2</th>\n",
       "      <td>R3HAB</td>\n",
       "      <td>6Wosx2euFPMT14UXiWudMy</td>\n",
       "      <td>Radio Silence</td>\n",
       "      <td>0.024994</td>\n",
       "      <td>0.603027</td>\n",
       "      <td>138913</td>\n",
       "      <td>0.723145</td>\n",
       "      <td>0.000000</td>\n",
       "      <td>9</td>\n",
       "      <td>0.082397</td>\n",
       "      <td>-5.890625</td>\n",
       "      <td>0</td>\n",
       "      <td>0.045410</td>\n",
       "      <td>114.9375</td>\n",
       "      <td>4</td>\n",
       "      <td>0.382080</td>\n",
       "      <td>56</td>\n",
       "    </tr>\n",
       "    <tr>\n",
       "      <th>3</th>\n",
       "      <td>Chris Cooq</td>\n",
       "      <td>3J2Jpw61sO7l6Hc7qdYV91</td>\n",
       "      <td>Lactose</td>\n",
       "      <td>0.029404</td>\n",
       "      <td>0.799805</td>\n",
       "      <td>125381</td>\n",
       "      <td>0.579102</td>\n",
       "      <td>0.912109</td>\n",
       "      <td>5</td>\n",
       "      <td>0.099426</td>\n",
       "      <td>-12.117188</td>\n",
       "      <td>0</td>\n",
       "      <td>0.070129</td>\n",
       "      <td>123.0000</td>\n",
       "      <td>4</td>\n",
       "      <td>0.641113</td>\n",
       "      <td>0</td>\n",
       "    </tr>\n",
       "    <tr>\n",
       "      <th>4</th>\n",
       "      <td>Chris Cooq</td>\n",
       "      <td>2jbYvQCyPgX3CdmAzeVeuS</td>\n",
       "      <td>Same - Original mix</td>\n",
       "      <td>0.000035</td>\n",
       "      <td>0.783203</td>\n",
       "      <td>124016</td>\n",
       "      <td>0.791992</td>\n",
       "      <td>0.877930</td>\n",
       "      <td>7</td>\n",
       "      <td>0.033203</td>\n",
       "      <td>-10.273438</td>\n",
       "      <td>1</td>\n",
       "      <td>0.066101</td>\n",
       "      <td>120.0625</td>\n",
       "      <td>4</td>\n",
       "      <td>0.928223</td>\n",
       "      <td>0</td>\n",
       "    </tr>\n",
       "  </tbody>\n",
       "</table>\n",
       "</div>"
      ],
      "text/plain": [
       "  artist_name                track_id  \\\n",
       "0          YG  2RM4jf1Xa9zPgMGRDiht8O   \n",
       "1          YG  1tHDG53xJNGsItRA3vfVgs   \n",
       "2       R3HAB  6Wosx2euFPMT14UXiWudMy   \n",
       "3  Chris Cooq  3J2Jpw61sO7l6Hc7qdYV91   \n",
       "4  Chris Cooq  2jbYvQCyPgX3CdmAzeVeuS   \n",
       "\n",
       "                                       track_name  acousticness  danceability  \\\n",
       "0  Big Bank feat. 2 Chainz, Big Sean, Nicki Minaj      0.005821      0.743164   \n",
       "1                    BAND DRUM (feat. A$AP Rocky)      0.024399      0.846191   \n",
       "2                                   Radio Silence      0.024994      0.603027   \n",
       "3                                         Lactose      0.029404      0.799805   \n",
       "4                             Same - Original mix      0.000035      0.783203   \n",
       "\n",
       "   duration_ms    energy  instrumentalness  key  liveness   loudness  mode  \\\n",
       "0       238373  0.339111          0.000000    1  0.081177  -7.679688     1   \n",
       "1       214800  0.557129          0.000000    8  0.285889  -7.257812     1   \n",
       "2       138913  0.723145          0.000000    9  0.082397  -5.890625     0   \n",
       "3       125381  0.579102          0.912109    5  0.099426 -12.117188     0   \n",
       "4       124016  0.791992          0.877930    7  0.033203 -10.273438     1   \n",
       "\n",
       "   speechiness     tempo  time_signature   valence  popularity  \n",
       "0     0.408936  203.8750               4  0.117981          15  \n",
       "1     0.457031  159.0000               4  0.371094           0  \n",
       "2     0.045410  114.9375               4  0.382080          56  \n",
       "3     0.070129  123.0000               4  0.641113           0  \n",
       "4     0.066101  120.0625               4  0.928223           0  "
      ]
     },
     "execution_count": 12,
     "metadata": {},
     "output_type": "execute_result"
    }
   ],
   "source": [
    "df1.head()"
   ]
  },
  {
   "cell_type": "markdown",
   "metadata": {},
   "source": []
  },
  {
   "cell_type": "code",
   "execution_count": null,
   "metadata": {},
   "outputs": [],
   "source": []
  },
  {
   "cell_type": "markdown",
   "metadata": {},
   "source": []
  },
  {
   "cell_type": "code",
   "execution_count": null,
   "metadata": {},
   "outputs": [],
   "source": []
  },
  {
   "cell_type": "markdown",
   "metadata": {},
   "source": []
  },
  {
   "cell_type": "code",
   "execution_count": null,
   "metadata": {},
   "outputs": [],
   "source": []
  },
  {
   "cell_type": "markdown",
   "metadata": {},
   "source": []
  },
  {
   "cell_type": "code",
   "execution_count": null,
   "metadata": {},
   "outputs": [],
   "source": []
  },
  {
   "cell_type": "markdown",
   "metadata": {},
   "source": []
  },
  {
   "cell_type": "code",
   "execution_count": null,
   "metadata": {},
   "outputs": [],
   "source": []
  },
  {
   "cell_type": "markdown",
   "metadata": {},
   "source": []
  },
  {
   "cell_type": "code",
   "execution_count": null,
   "metadata": {},
   "outputs": [],
   "source": []
  },
  {
   "cell_type": "markdown",
   "metadata": {},
   "source": []
  },
  {
   "cell_type": "code",
   "execution_count": null,
   "metadata": {},
   "outputs": [],
   "source": []
  },
  {
   "cell_type": "markdown",
   "metadata": {},
   "source": []
  },
  {
   "cell_type": "code",
   "execution_count": null,
   "metadata": {},
   "outputs": [],
   "source": []
  },
  {
   "cell_type": "markdown",
   "metadata": {},
   "source": []
  },
  {
   "cell_type": "code",
   "execution_count": null,
   "metadata": {},
   "outputs": [],
   "source": []
  },
  {
   "cell_type": "markdown",
   "metadata": {},
   "source": []
  },
  {
   "cell_type": "code",
   "execution_count": null,
   "metadata": {},
   "outputs": [],
   "source": []
  },
  {
   "cell_type": "code",
   "execution_count": null,
   "metadata": {},
   "outputs": [],
   "source": []
  },
  {
   "cell_type": "code",
   "execution_count": null,
   "metadata": {},
   "outputs": [],
   "source": []
  },
  {
   "cell_type": "code",
   "execution_count": null,
   "metadata": {},
   "outputs": [],
   "source": []
  },
  {
   "cell_type": "code",
   "execution_count": null,
   "metadata": {},
   "outputs": [],
   "source": []
  }
 ],
 "metadata": {
  "kernelspec": {
   "display_name": "Python 3",
   "language": "python",
   "name": "python3"
  },
  "language_info": {
   "codemirror_mode": {
    "name": "ipython",
    "version": 3
   },
   "file_extension": ".py",
   "mimetype": "text/x-python",
   "name": "python",
   "nbconvert_exporter": "python",
   "pygments_lexer": "ipython3",
   "version": "3.7.6"
  }
 },
 "nbformat": 4,
 "nbformat_minor": 4
}
